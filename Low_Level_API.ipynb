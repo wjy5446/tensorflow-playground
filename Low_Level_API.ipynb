{
 "cells": [
  {
   "cell_type": "code",
   "execution_count": 3,
   "metadata": {},
   "outputs": [],
   "source": [
    "import tensorflow as tf"
   ]
  },
  {
   "cell_type": "markdown",
   "metadata": {},
   "source": [
    "# Low Level API"
   ]
  },
  {
   "cell_type": "markdown",
   "metadata": {},
   "source": [
    "- Tensorflow program (tf.Graph)\n",
    "- Tensorflow runtime (tf.Session)"
   ]
  },
  {
   "cell_type": "markdown",
   "metadata": {},
   "source": [
    "## Tensor Values\n",
    "- array와 같은 형식 값\n",
    "- rank : 차원 수\n",
    "- shape : array 모양"
   ]
  },
  {
   "cell_type": "code",
   "execution_count": 7,
   "metadata": {},
   "outputs": [],
   "source": [
    "a = tf.constant(3.0, dtype=tf.float32)\n",
    "b = tf.constant(4.0)\n",
    "total = a + b"
   ]
  },
  {
   "cell_type": "code",
   "execution_count": 8,
   "metadata": {},
   "outputs": [
    {
     "name": "stdout",
     "output_type": "stream",
     "text": [
      "Tensor(\"Const_2:0\", shape=(), dtype=float32) Tensor(\"Const_3:0\", shape=(), dtype=float32) Tensor(\"add_1:0\", shape=(), dtype=float32)\n"
     ]
    }
   ],
   "source": [
    "print(a, b, total)"
   ]
  },
  {
   "cell_type": "markdown",
   "metadata": {},
   "source": [
    "## Graph\n",
    "- tf.Operation: graph node, 텐서를 생성하거나 소비하는 계산\n",
    "- tf.Tensor: graph edge, 결과 값 (tf.Tensors)\n",
    "  - Tensor는 실행될 결과를 표현한다.\n",
    "  - 각 tensor는 name을 가지고 있다\n",
    "  - 값을 가지고 있지 않는다."
   ]
  },
  {
   "cell_type": "markdown",
   "metadata": {},
   "source": [
    "## TensorBoard\n",
    "- graph를 visualization해준다."
   ]
  },
  {
   "cell_type": "markdown",
   "metadata": {},
   "source": [
    "## Session\n",
    "- tensor evaluate하기 위한 Session\n",
    "- tf.Session().run() : 해당 tensor를 evaluate해준다.\n",
    "- run할 때, tensor는 오직 하나의 값만 가진다.\n",
    "- 종종 tf.Tensor 대신에 tf.operator을 return한다. 그경우, None 노출"
   ]
  },
  {
   "cell_type": "code",
   "execution_count": 10,
   "metadata": {},
   "outputs": [
    {
     "name": "stdout",
     "output_type": "stream",
     "text": [
      "7.0\n",
      "{'ab': (3.0, 4.0), 'total': 7.0}\n"
     ]
    }
   ],
   "source": [
    "sess = tf.Session()\n",
    "print(sess.run(total))\n",
    "print(sess.run({'ab':(a, b), 'total': total}))"
   ]
  },
  {
   "cell_type": "markdown",
   "metadata": {},
   "source": [
    "### Feed\n",
    "- placeholders : 값을 받을 것을 약속한다.\n",
    "  - x=tf.placeholder(tf.float32)\n",
    "  - session.run()에 feed_dict을 이용해 결과 값을 받는다.\n",
    "  - feed_dict은 Tensor에 overwrite가 가능(placeholder와 차이는 없을 때 오류 출력)"
   ]
  },
  {
   "cell_type": "code",
   "execution_count": 11,
   "metadata": {},
   "outputs": [],
   "source": [
    "x = tf.placeholder(tf.float32)\n",
    "y = tf.placeholder(tf.float32)\n",
    "z = x + y"
   ]
  },
  {
   "cell_type": "code",
   "execution_count": 13,
   "metadata": {},
   "outputs": [
    {
     "name": "stdout",
     "output_type": "stream",
     "text": [
      "7.0\n"
     ]
    }
   ],
   "source": [
    "print(sess.run(z, feed_dict={x:3, y:4}))"
   ]
  },
  {
   "cell_type": "markdown",
   "metadata": {},
   "source": [
    "## Datasets\n",
    "- tf.data 모델에 데이터를 줄 때 더 많이 사용하는 모듈\n",
    "- Tensor를 tf.data.Iterator로 변경\n",
    "- tf.data.Iterator,get_next로 사용\n",
    "- slices.make_one_shot_iterator()로 Iterator 생성\n",
    "  - 마지막 값 출력시 Error 출력\n",
    "  - 단 한번만 출력\n",
    "- slices.make_initializable_iterator()\n",
    "  - 사용전에 sess.run(iterator.initializer) 실행"
   ]
  },
  {
   "cell_type": "code",
   "execution_count": 34,
   "metadata": {},
   "outputs": [],
   "source": [
    "my_data = [[0, 1], [2, 3], [4, 5], [6, 7]]"
   ]
  },
  {
   "cell_type": "code",
   "execution_count": 35,
   "metadata": {},
   "outputs": [],
   "source": [
    "slices = tf.data.Dataset.from_tensor_slices(my_data)"
   ]
  },
  {
   "cell_type": "code",
   "execution_count": 36,
   "metadata": {},
   "outputs": [],
   "source": [
    "next_time = slices.make_one_shot_iterator().get_next()"
   ]
  },
  {
   "cell_type": "code",
   "execution_count": 37,
   "metadata": {},
   "outputs": [
    {
     "name": "stdout",
     "output_type": "stream",
     "text": [
      "[0 1]\n",
      "[2 3]\n",
      "[4 5]\n",
      "[6 7]\n"
     ]
    }
   ],
   "source": [
    "while True:\n",
    "    try:\n",
    "        print(sess.run(next_time))\n",
    "    except tf.errors.OutOfRangeError:\n",
    "        break"
   ]
  },
  {
   "cell_type": "markdown",
   "metadata": {},
   "source": [
    "## Layers\n",
    "- trianable parameter를 추가하는 방법\n",
    "- variable, operator로 이루어짐\n",
    "- placeholder 넣을 때 반드시 shape를 설정이 필요\n",
    "- tf.global_variables_initializer()로 초기화 필요 (return이 operator)"
   ]
  },
  {
   "cell_type": "code",
   "execution_count": 40,
   "metadata": {},
   "outputs": [],
   "source": [
    "x = tf.placeholder(tf.float32, shape=[None, 3])\n",
    "linear_model = tf.layers.Dense(units=1)\n",
    "y = linear_model(x)"
   ]
  },
  {
   "cell_type": "code",
   "execution_count": 41,
   "metadata": {},
   "outputs": [],
   "source": [
    "init = tf.global_variables_initializer()\n",
    "sess.run(init)"
   ]
  },
  {
   "cell_type": "code",
   "execution_count": 43,
   "metadata": {},
   "outputs": [
    {
     "data": {
      "text/plain": [
       "array([[1.480969],\n",
       "       [3.826353]], dtype=float32)"
      ]
     },
     "execution_count": 43,
     "metadata": {},
     "output_type": "execute_result"
    }
   ],
   "source": [
    "sess.run(y, {x: [[1, 2, 3], [4, 5, 6]]})"
   ]
  },
  {
   "cell_type": "markdown",
   "metadata": {},
   "source": [
    "### shortcut Layers\n",
    "- shortcut function : create와 run을 동시에 가능하다.\n",
    "- tf.layers.Layer 사용이 불가\n",
    "- introspection과 디버깅이 힘듬, layer 재사용이 불가능"
   ]
  },
  {
   "cell_type": "code",
   "execution_count": 45,
   "metadata": {},
   "outputs": [
    {
     "name": "stdout",
     "output_type": "stream",
     "text": [
      "WARNING:tensorflow:From <ipython-input-45-b7e714f7a3e1>:2: dense (from tensorflow.python.layers.core) is deprecated and will be removed in a future version.\n",
      "Instructions for updating:\n",
      "Use keras.layers.dense instead.\n",
      "[[-1.1721786]\n",
      " [-3.981616 ]]\n"
     ]
    }
   ],
   "source": [
    "x = tf.placeholder(tf.float32, shape=[None, 3])\n",
    "y = tf.layers.dense(x, units=1)\n",
    "\n",
    "init = tf.global_variables_initializer()\n",
    "sess.run(init)\n",
    "\n",
    "print(sess.run(y, {x: [[1, 2, 3], [4, 5, 6]]}))"
   ]
  },
  {
   "cell_type": "markdown",
   "metadata": {},
   "source": [
    "## Training"
   ]
  },
  {
   "cell_type": "code",
   "execution_count": 46,
   "metadata": {},
   "outputs": [],
   "source": [
    "# Define data\n",
    "x = tf.constant([[1], [2], [3], [4]], dtype=tf.float32)\n",
    "y_true = tf.constant([[0], [-1], [-2], [-3]], dtype=tf.float32)"
   ]
  },
  {
   "cell_type": "code",
   "execution_count": 47,
   "metadata": {},
   "outputs": [],
   "source": [
    "# Define model\n",
    "linear_model = tf.layers.Dense(units=1)\n",
    "y_pred = linear_model(x)"
   ]
  },
  {
   "cell_type": "code",
   "execution_count": 48,
   "metadata": {},
   "outputs": [
    {
     "name": "stdout",
     "output_type": "stream",
     "text": [
      "[[0.30081904]\n",
      " [0.6016381 ]\n",
      " [0.9024571 ]\n",
      " [1.2032762 ]]\n"
     ]
    }
   ],
   "source": [
    "# session\n",
    "sess = tf.Session()\n",
    "init = tf.global_variables_initializer()\n",
    "sess.run(init)\n",
    "\n",
    "print(sess.run(y_pred))"
   ]
  },
  {
   "cell_type": "markdown",
   "metadata": {},
   "source": [
    "### Loss\n",
    "- tf.losses : loss function 제공"
   ]
  },
  {
   "cell_type": "code",
   "execution_count": 51,
   "metadata": {},
   "outputs": [
    {
     "name": "stdout",
     "output_type": "stream",
     "text": [
      "7.186881\n"
     ]
    }
   ],
   "source": [
    "loss = tf.losses.mean_squared_error(labels=y_true, predictions=y_pred)\n",
    "print(sess.run(loss))"
   ]
  },
  {
   "cell_type": "markdown",
   "metadata": {},
   "source": [
    "### Training\n",
    "- tf.train.Optimizer : optimizer 수행 \n",
    "  - optimizer.minimize() : minimizer할 loss 입력 (return operator)\n",
    "  - run시 loss를 같이 넣어 loss를 확인"
   ]
  },
  {
   "cell_type": "code",
   "execution_count": 53,
   "metadata": {},
   "outputs": [],
   "source": [
    "optimizer = tf.train.GradientDescentOptimizer(0.01)\n",
    "train = optimizer.minimize(loss)"
   ]
  },
  {
   "cell_type": "code",
   "execution_count": 54,
   "metadata": {},
   "outputs": [
    {
     "name": "stdout",
     "output_type": "stream",
     "text": [
      "7.186881\n",
      "5.070614\n",
      "3.60168\n",
      "2.5819197\n",
      "1.8738348\n",
      "1.3820176\n",
      "1.0402668\n",
      "0.80264705\n",
      "0.6372845\n",
      "0.52206266\n",
      "0.44163507\n",
      "0.38535345\n",
      "0.34582895\n",
      "0.31793478\n",
      "0.29811347\n",
      "0.2838965\n",
      "0.27357092\n",
      "0.26594847\n",
      "0.26020426\n",
      "0.25576606\n",
      "0.25223678\n",
      "0.2493408\n",
      "0.24688709\n",
      "0.24474278\n",
      "0.24281587\n",
      "0.24104242\n",
      "0.23937805\n",
      "0.23779194\n",
      "0.23626272\n",
      "0.2347756\n",
      "0.23332016\n",
      "0.23188922\n",
      "0.23047788\n",
      "0.22908267\n",
      "0.22770098\n",
      "0.22633125\n",
      "0.22497234\n",
      "0.22362322\n",
      "0.22228345\n",
      "0.22095254\n",
      "0.2196301\n",
      "0.21831606\n",
      "0.21701017\n",
      "0.2157122\n",
      "0.21442218\n",
      "0.21313995\n",
      "0.21186548\n",
      "0.2105987\n",
      "0.20933951\n",
      "0.20808786\n",
      "0.2068437\n",
      "0.20560692\n",
      "0.20437765\n",
      "0.20315573\n",
      "0.20194107\n",
      "0.20073366\n",
      "0.1995335\n",
      "0.19834052\n",
      "0.1971547\n",
      "0.19597593\n",
      "0.19480425\n",
      "0.19363952\n",
      "0.19248174\n",
      "0.19133097\n",
      "0.19018702\n",
      "0.18904993\n",
      "0.18791966\n",
      "0.1867961\n",
      "0.18567927\n",
      "0.18456909\n",
      "0.18346561\n",
      "0.18236867\n",
      "0.18127832\n",
      "0.1801945\n",
      "0.17911713\n",
      "0.17804626\n",
      "0.17698175\n",
      "0.17592357\n",
      "0.17487174\n",
      "0.1738262\n",
      "0.17278692\n",
      "0.1717539\n",
      "0.170727\n",
      "0.16970623\n",
      "0.16869158\n",
      "0.16768304\n",
      "0.16668049\n",
      "0.16568391\n",
      "0.16469331\n",
      "0.16370864\n",
      "0.16272986\n",
      "0.16175693\n",
      "0.16078982\n",
      "0.15982845\n",
      "0.15887284\n",
      "0.157923\n",
      "0.15697882\n",
      "0.15604025\n",
      "0.1551073\n",
      "0.15417992\n"
     ]
    }
   ],
   "source": [
    "for i in range(100):\n",
    "    _, loss_value = sess.run((train, loss))\n",
    "    print(loss_value)"
   ]
  },
  {
   "cell_type": "code",
   "execution_count": 55,
   "metadata": {},
   "outputs": [
    {
     "name": "stdout",
     "output_type": "stream",
     "text": [
      "[[-0.63212246]\n",
      " [-1.3063067 ]\n",
      " [-1.9804908 ]\n",
      " [-2.654675  ]]\n"
     ]
    }
   ],
   "source": [
    "print(sess.run(y_pred))"
   ]
  },
  {
   "cell_type": "markdown",
   "metadata": {},
   "source": [
    "## Summary\n",
    "- tf.Graph, tf.Session 두가지 존재\n",
    "  - tf.Graph = tf.Tensor(Edge) + tf.Operator(Node)\n",
    "  - tf.Tensor -> tf.Constant, tf.Variable, tf.placeholder 존재\n",
    "  \n",
    "  - tf.Session -> tf.run()으로 실행\n",
    "\n",
    "- tf.data.Dataset\n",
    "  - slice 생성 -> Iterator 생성\n",
    "\n",
    "- tf.layer\n",
    "  - tf.layers : 함수 tf.Tensor, tf.Operator return\n",
    "  - shortcut layer : 함수 선언 및 input 넣기 가능\n",
    "  - 반드시 shape 입력\n",
    "  \n",
    "- tf.losses : 여러 종류의 loss 저장\n",
    "\n",
    "- tf.train.optimizer : optimizer 저장\n",
    "  - optimizer.minimize(loss) : train function return\n",
    "  - sess.run(train, loss) -> return이 없어 loss 확인시 같이 입력"
   ]
  },
  {
   "cell_type": "code",
   "execution_count": null,
   "metadata": {},
   "outputs": [],
   "source": []
  }
 ],
 "metadata": {
  "kernelspec": {
   "display_name": "py36",
   "language": "python",
   "name": "py36"
  },
  "language_info": {
   "codemirror_mode": {
    "name": "ipython",
    "version": 3
   },
   "file_extension": ".py",
   "mimetype": "text/x-python",
   "name": "python",
   "nbconvert_exporter": "python",
   "pygments_lexer": "ipython3",
   "version": "3.6.8"
  }
 },
 "nbformat": 4,
 "nbformat_minor": 2
}
